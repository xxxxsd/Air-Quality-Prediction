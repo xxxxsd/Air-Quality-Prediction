{
  "nbformat": 4,
  "nbformat_minor": 0,
  "metadata": {
    "colab": {
      "name": "Air Quality Prediction .ipynb",
      "provenance": []
    },
    "kernelspec": {
      "name": "python3",
      "display_name": "Python 3"
    }
  },
  "cells": [
    {
      "cell_type": "code",
      "metadata": {
        "colab": {
          "resources": {
            "http://localhost:8080/nbextensions/google.colab/files.js": {
              "data": "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",
              "ok": true,
              "headers": [
                [
                  "content-type",
                  "application/javascript"
                ]
              ],
              "status": 200,
              "status_text": ""
            }
          },
          "base_uri": "https://localhost:8080/",
          "height": 106
        },
        "id": "jkNBNmICh_4g",
        "outputId": "61e2fa06-f2e8-4e69-c7fe-5046916f1079"
      },
      "source": [
        "from google.colab import files\n",
        "uploaded = files.upload()"
      ],
      "execution_count": 4,
      "outputs": [
        {
          "output_type": "display_data",
          "data": {
            "text/html": [
              "\n",
              "     <input type=\"file\" id=\"files-8af91907-b42b-4c27-a691-083cc90db638\" name=\"files[]\" multiple disabled\n",
              "        style=\"border:none\" />\n",
              "     <output id=\"result-8af91907-b42b-4c27-a691-083cc90db638\">\n",
              "      Upload widget is only available when the cell has been executed in the\n",
              "      current browser session. Please rerun this cell to enable.\n",
              "      </output>\n",
              "      <script src=\"/nbextensions/google.colab/files.js\"></script> "
            ],
            "text/plain": [
              "<IPython.core.display.HTML object>"
            ]
          },
          "metadata": {
            "tags": []
          }
        },
        {
          "output_type": "stream",
          "text": [
            "Saving Test_Air_Pollution.csv to Test_Air_Pollution.csv\n",
            "Saving Train_Air_Polllution.csv to Train_Air_Polllution.csv\n"
          ],
          "name": "stdout"
        }
      ]
    },
    {
      "cell_type": "code",
      "metadata": {
        "colab": {
          "base_uri": "https://localhost:8080/",
          "height": 195
        },
        "id": "jJlIWq1Uilil",
        "outputId": "1728a74b-bf48-48dd-ea6d-103c831ff70a"
      },
      "source": [
        "import pandas as pd\n",
        "import numpy as np\n",
        "import seaborn as sns\n",
        "import matplotlib.pyplot as plt\n",
        "\n",
        "df=pd.read_csv(\"Train_Air_Polllution.csv\")\n",
        " \n",
        "df.head(n=5)"
      ],
      "execution_count": 5,
      "outputs": [
        {
          "output_type": "execute_result",
          "data": {
            "text/html": [
              "<div>\n",
              "<style scoped>\n",
              "    .dataframe tbody tr th:only-of-type {\n",
              "        vertical-align: middle;\n",
              "    }\n",
              "\n",
              "    .dataframe tbody tr th {\n",
              "        vertical-align: top;\n",
              "    }\n",
              "\n",
              "    .dataframe thead th {\n",
              "        text-align: right;\n",
              "    }\n",
              "</style>\n",
              "<table border=\"1\" class=\"dataframe\">\n",
              "  <thead>\n",
              "    <tr style=\"text-align: right;\">\n",
              "      <th></th>\n",
              "      <th>feature_1</th>\n",
              "      <th>feature_2</th>\n",
              "      <th>feature_3</th>\n",
              "      <th>feature_4</th>\n",
              "      <th>feature_5</th>\n",
              "      <th>target</th>\n",
              "    </tr>\n",
              "  </thead>\n",
              "  <tbody>\n",
              "    <tr>\n",
              "      <th>0</th>\n",
              "      <td>0.293416</td>\n",
              "      <td>-0.945599</td>\n",
              "      <td>-0.421105</td>\n",
              "      <td>0.406816</td>\n",
              "      <td>0.525662</td>\n",
              "      <td>-82.154667</td>\n",
              "    </tr>\n",
              "    <tr>\n",
              "      <th>1</th>\n",
              "      <td>-0.836084</td>\n",
              "      <td>-0.189228</td>\n",
              "      <td>-0.776403</td>\n",
              "      <td>-1.053831</td>\n",
              "      <td>0.597997</td>\n",
              "      <td>-48.897960</td>\n",
              "    </tr>\n",
              "    <tr>\n",
              "      <th>2</th>\n",
              "      <td>0.236425</td>\n",
              "      <td>0.132836</td>\n",
              "      <td>-0.147723</td>\n",
              "      <td>0.699854</td>\n",
              "      <td>-0.187364</td>\n",
              "      <td>77.270371</td>\n",
              "    </tr>\n",
              "    <tr>\n",
              "      <th>3</th>\n",
              "      <td>0.175312</td>\n",
              "      <td>0.143194</td>\n",
              "      <td>-0.581111</td>\n",
              "      <td>-0.122107</td>\n",
              "      <td>-1.292168</td>\n",
              "      <td>-2.988581</td>\n",
              "    </tr>\n",
              "    <tr>\n",
              "      <th>4</th>\n",
              "      <td>-1.693011</td>\n",
              "      <td>0.542712</td>\n",
              "      <td>-2.798729</td>\n",
              "      <td>-0.686723</td>\n",
              "      <td>1.244077</td>\n",
              "      <td>-37.596722</td>\n",
              "    </tr>\n",
              "  </tbody>\n",
              "</table>\n",
              "</div>"
            ],
            "text/plain": [
              "   feature_1  feature_2  feature_3  feature_4  feature_5     target\n",
              "0   0.293416  -0.945599  -0.421105   0.406816   0.525662 -82.154667\n",
              "1  -0.836084  -0.189228  -0.776403  -1.053831   0.597997 -48.897960\n",
              "2   0.236425   0.132836  -0.147723   0.699854  -0.187364  77.270371\n",
              "3   0.175312   0.143194  -0.581111  -0.122107  -1.292168  -2.988581\n",
              "4  -1.693011   0.542712  -2.798729  -0.686723   1.244077 -37.596722"
            ]
          },
          "metadata": {
            "tags": []
          },
          "execution_count": 5
        }
      ]
    },
    {
      "cell_type": "code",
      "metadata": {
        "id": "HbsgFUWKiltT"
      },
      "source": [
        "dfx=df.iloc[:,:5]"
      ],
      "execution_count": 6,
      "outputs": []
    },
    {
      "cell_type": "code",
      "metadata": {
        "colab": {
          "base_uri": "https://localhost:8080/",
          "height": 402
        },
        "id": "Hy8WUlECilz_",
        "outputId": "bfe06d1f-5308-4b24-e467-bf91f900a43f"
      },
      "source": [
        "dfx"
      ],
      "execution_count": 7,
      "outputs": [
        {
          "output_type": "execute_result",
          "data": {
            "text/html": [
              "<div>\n",
              "<style scoped>\n",
              "    .dataframe tbody tr th:only-of-type {\n",
              "        vertical-align: middle;\n",
              "    }\n",
              "\n",
              "    .dataframe tbody tr th {\n",
              "        vertical-align: top;\n",
              "    }\n",
              "\n",
              "    .dataframe thead th {\n",
              "        text-align: right;\n",
              "    }\n",
              "</style>\n",
              "<table border=\"1\" class=\"dataframe\">\n",
              "  <thead>\n",
              "    <tr style=\"text-align: right;\">\n",
              "      <th></th>\n",
              "      <th>feature_1</th>\n",
              "      <th>feature_2</th>\n",
              "      <th>feature_3</th>\n",
              "      <th>feature_4</th>\n",
              "      <th>feature_5</th>\n",
              "    </tr>\n",
              "  </thead>\n",
              "  <tbody>\n",
              "    <tr>\n",
              "      <th>0</th>\n",
              "      <td>0.293416</td>\n",
              "      <td>-0.945599</td>\n",
              "      <td>-0.421105</td>\n",
              "      <td>0.406816</td>\n",
              "      <td>0.525662</td>\n",
              "    </tr>\n",
              "    <tr>\n",
              "      <th>1</th>\n",
              "      <td>-0.836084</td>\n",
              "      <td>-0.189228</td>\n",
              "      <td>-0.776403</td>\n",
              "      <td>-1.053831</td>\n",
              "      <td>0.597997</td>\n",
              "    </tr>\n",
              "    <tr>\n",
              "      <th>2</th>\n",
              "      <td>0.236425</td>\n",
              "      <td>0.132836</td>\n",
              "      <td>-0.147723</td>\n",
              "      <td>0.699854</td>\n",
              "      <td>-0.187364</td>\n",
              "    </tr>\n",
              "    <tr>\n",
              "      <th>3</th>\n",
              "      <td>0.175312</td>\n",
              "      <td>0.143194</td>\n",
              "      <td>-0.581111</td>\n",
              "      <td>-0.122107</td>\n",
              "      <td>-1.292168</td>\n",
              "    </tr>\n",
              "    <tr>\n",
              "      <th>4</th>\n",
              "      <td>-1.693011</td>\n",
              "      <td>0.542712</td>\n",
              "      <td>-2.798729</td>\n",
              "      <td>-0.686723</td>\n",
              "      <td>1.244077</td>\n",
              "    </tr>\n",
              "    <tr>\n",
              "      <th>...</th>\n",
              "      <td>...</td>\n",
              "      <td>...</td>\n",
              "      <td>...</td>\n",
              "      <td>...</td>\n",
              "      <td>...</td>\n",
              "    </tr>\n",
              "    <tr>\n",
              "      <th>1595</th>\n",
              "      <td>-0.274961</td>\n",
              "      <td>-0.820634</td>\n",
              "      <td>-0.757173</td>\n",
              "      <td>-0.147555</td>\n",
              "      <td>-0.307149</td>\n",
              "    </tr>\n",
              "    <tr>\n",
              "      <th>1596</th>\n",
              "      <td>-0.076099</td>\n",
              "      <td>0.255257</td>\n",
              "      <td>0.290054</td>\n",
              "      <td>1.796036</td>\n",
              "      <td>0.340350</td>\n",
              "    </tr>\n",
              "    <tr>\n",
              "      <th>1597</th>\n",
              "      <td>1.044177</td>\n",
              "      <td>-0.899206</td>\n",
              "      <td>1.730399</td>\n",
              "      <td>-1.871057</td>\n",
              "      <td>0.442520</td>\n",
              "    </tr>\n",
              "    <tr>\n",
              "      <th>1598</th>\n",
              "      <td>-1.269173</td>\n",
              "      <td>-0.005052</td>\n",
              "      <td>1.857669</td>\n",
              "      <td>-1.080365</td>\n",
              "      <td>0.736334</td>\n",
              "    </tr>\n",
              "    <tr>\n",
              "      <th>1599</th>\n",
              "      <td>-1.884000</td>\n",
              "      <td>-0.849427</td>\n",
              "      <td>-1.452270</td>\n",
              "      <td>0.488613</td>\n",
              "      <td>1.459576</td>\n",
              "    </tr>\n",
              "  </tbody>\n",
              "</table>\n",
              "<p>1600 rows × 5 columns</p>\n",
              "</div>"
            ],
            "text/plain": [
              "      feature_1  feature_2  feature_3  feature_4  feature_5\n",
              "0      0.293416  -0.945599  -0.421105   0.406816   0.525662\n",
              "1     -0.836084  -0.189228  -0.776403  -1.053831   0.597997\n",
              "2      0.236425   0.132836  -0.147723   0.699854  -0.187364\n",
              "3      0.175312   0.143194  -0.581111  -0.122107  -1.292168\n",
              "4     -1.693011   0.542712  -2.798729  -0.686723   1.244077\n",
              "...         ...        ...        ...        ...        ...\n",
              "1595  -0.274961  -0.820634  -0.757173  -0.147555  -0.307149\n",
              "1596  -0.076099   0.255257   0.290054   1.796036   0.340350\n",
              "1597   1.044177  -0.899206   1.730399  -1.871057   0.442520\n",
              "1598  -1.269173  -0.005052   1.857669  -1.080365   0.736334\n",
              "1599  -1.884000  -0.849427  -1.452270   0.488613   1.459576\n",
              "\n",
              "[1600 rows x 5 columns]"
            ]
          },
          "metadata": {
            "tags": []
          },
          "execution_count": 7
        }
      ]
    },
    {
      "cell_type": "code",
      "metadata": {
        "id": "fSs1kc5Til1j"
      },
      "source": [
        "dfy=df.iloc[:,-1]"
      ],
      "execution_count": 8,
      "outputs": []
    },
    {
      "cell_type": "code",
      "metadata": {
        "colab": {
          "base_uri": "https://localhost:8080/"
        },
        "id": "MsFJnBmvjkwy",
        "outputId": "96dcc5cf-40e5-474d-b0cc-c4f465e211f7"
      },
      "source": [
        "dfy.head(n=5)"
      ],
      "execution_count": 9,
      "outputs": [
        {
          "output_type": "execute_result",
          "data": {
            "text/plain": [
              "0   -82.154667\n",
              "1   -48.897960\n",
              "2    77.270371\n",
              "3    -2.988581\n",
              "4   -37.596722\n",
              "Name: target, dtype: float64"
            ]
          },
          "metadata": {
            "tags": []
          },
          "execution_count": 9
        }
      ]
    },
    {
      "cell_type": "code",
      "metadata": {
        "colab": {
          "base_uri": "https://localhost:8080/",
          "height": 596
        },
        "id": "Bz5NBAlhjkyW",
        "outputId": "45dea977-c81f-4699-a1f2-42c25f6fabd0"
      },
      "source": [
        "plt.figure(figsize=(12,10))  \n",
        "p=sns.heatmap(df.corr(), annot=True,cmap ='RdYlGn')"
      ],
      "execution_count": 10,
      "outputs": [
        {
          "output_type": "display_data",
          "data": {
            "image/png": "[encoded data removed]",
            "text/plain": [
              "<Figure size 864x720 with 2 Axes>"
            ]
          },
          "metadata": {
            "tags": [],
            "needs_background": "light"
          }
        }
      ]
    },
    {
      "cell_type": "code",
      "metadata": {
        "id": "_7PB552Wjk2S"
      },
      "source": [
        "X=dfx.values\n",
        "Y=dfy.values"
      ],
      "execution_count": 11,
      "outputs": []
    },
    {
      "cell_type": "code",
      "metadata": {
        "id": "WQdM07X3jk36"
      },
      "source": [
        "X_test=pd.read_csv(\"Test_Air_Pollution.csv\").values"
      ],
      "execution_count": 12,
      "outputs": []
    },
    {
      "cell_type": "code",
      "metadata": {
        "id": "upH2JEl0k_cX"
      },
      "source": [
        "from sklearn.tree import DecisionTreeRegressor\n",
        "clf=DecisionTreeRegressor()\n",
        "model=clf.fit(X,Y)\n"
      ],
      "execution_count": 13,
      "outputs": []
    },
    {
      "cell_type": "code",
      "metadata": {
        "id": "1A4nZsfrk_d5"
      },
      "source": [
        "Y_test=model.predict(X_test)\n"
      ],
      "execution_count": 14,
      "outputs": []
    },
    {
      "cell_type": "code",
      "metadata": {
        "colab": {
          "base_uri": "https://localhost:8080/"
        },
        "id": "ZpVsOTpDk_ic",
        "outputId": "5083a47e-b581-4399-b913-1222de455458"
      },
      "source": [
        "Y_test"
      ],
      "execution_count": 15,
      "outputs": [
        {
          "output_type": "execute_result",
          "data": {
            "text/plain": [
              "array([ 180.67262943,   71.83944595,    2.943305  ,  -69.83700546,\n",
              "        -68.85441917,  -35.234053  ,  -78.77596851,  -12.1836729 ,\n",
              "        145.88933701,  187.89670689, -136.9761989 ,  -12.72473258,\n",
              "         19.88251229,  130.03876076,   40.8141811 ,   57.55014602,\n",
              "       -167.63883082,   25.10505385,   19.71350601,  144.89753806,\n",
              "         90.01795804,  -82.15466656, -112.45793025,  -10.99436895,\n",
              "        -75.00976086,   53.48434773,   40.57375748,  129.61941273,\n",
              "        -19.24845666,  -52.80555816,   86.77782134,    3.44489794,\n",
              "        217.976813  ,  -22.91323137, -245.2552968 ,  147.47261127,\n",
              "        -35.04487705,   54.61679029, -245.2552968 ,  101.04059284,\n",
              "        -20.329829  , -171.50727853, -276.52260561,   61.95097629,\n",
              "       -137.54461323,  143.59411157,    5.333131  ,   -6.92091095,\n",
              "        -89.06337381,  -13.30537767,   23.56942507, -100.82463624,\n",
              "         58.84853377,  -98.16316423, -112.44940028, -141.28924215,\n",
              "        119.04846781,   98.54059338,  -64.21326205,   76.28795646,\n",
              "         70.3912057 ,  -38.96616494,  147.10548795,   12.78427452,\n",
              "         65.48785645,  -23.5756386 ,   80.49340299,  -22.11618647,\n",
              "         -3.20624357,   63.05603291,   61.14659979,  122.35360042,\n",
              "        -25.37542465,   23.56942507,  -88.62927576, -104.35482922,\n",
              "         36.78439936, -124.07736021,    3.42346674,  185.25504889,\n",
              "        -55.59894563, -157.54212456, -156.64167736,   22.83541971,\n",
              "        187.89670689,  263.22624348, -276.52260561, -108.4492417 ,\n",
              "         83.00572222,  -73.03985317,    9.59731984,   84.63020682,\n",
              "       -139.53389556, -114.52318164,   35.10240097,  151.86089315,\n",
              "       -189.11073958, -156.99291385, -134.23039869,  -72.17279787,\n",
              "        134.68128445, -122.09081072,  -20.41975566,   52.72714551,\n",
              "         -0.77579205,   53.24351451,   -5.87022808,  147.10548795,\n",
              "         -5.54124422,  -94.55901594,   67.14214495,   24.17280863,\n",
              "        129.87738031,    5.33756377,   85.87801096,   -8.7896863 ,\n",
              "       -148.64142115,    2.39862509,   34.64303017,   10.33291706,\n",
              "         -5.54124422, -281.47560564,  217.976813  ,  164.88586285,\n",
              "          6.38517327,   86.43648335,  -28.51984176, -139.53389556,\n",
              "        188.4162451 ,  -44.14202842, -181.57782634,  130.03876076,\n",
              "        -11.18288431,  -91.50647255,  220.55222811,   46.53836827,\n",
              "         -2.66120914,   40.57375748,   27.61953829, -171.50727853,\n",
              "        134.68128445,  -94.29785653,  273.06668072,  128.62029396,\n",
              "        -45.76393054, -118.53003986,  -35.15802641,  160.98677687,\n",
              "         53.24351451,   33.54817716,   13.52219407,  -34.95190315,\n",
              "          2.943305  ,  -18.76646682,   -1.3395455 ,  185.25504889,\n",
              "        320.95970988,  217.976813  ,   40.64522049,  -26.66275136,\n",
              "       -181.57782634,  -19.24845666,  284.2761675 ,  108.39746208,\n",
              "        -11.72845529,  153.45754775, -157.54212456,  103.36948239,\n",
              "        187.89670689,  -48.37010826,   74.67964855,   94.46989086,\n",
              "         59.01901054,   27.73321182,  236.4152391 , -156.46548359,\n",
              "        -50.60424318, -112.44940028,  -42.89304969,  -91.81966269,\n",
              "        -28.51984176,  -66.87507734,  -70.99136389,   42.82950515,\n",
              "        -88.62927576,   65.01373219,  -38.2936838 ,  -93.0258417 ,\n",
              "        -47.34155781,  181.21592569,  -25.37542465,  226.30223489,\n",
              "       -104.63479864, -110.44460147,   68.01173246,    6.26010481,\n",
              "         80.04594533,  -38.86446947,  181.80833703, -116.11982515,\n",
              "       -108.38849755,   -0.87251329,   24.17280863,   30.99668632,\n",
              "        153.06095109,   32.59426327,   88.32149377,   91.51498695,\n",
              "       -251.53380008, -202.39414715,  -50.60424318,  -25.00266191,\n",
              "         16.76456292,   -0.35564991,    7.76612031,  -26.82202062,\n",
              "        -12.38330662,  -47.98667012,   42.82950515,  104.00524975,\n",
              "       -108.14666664, -179.41584942,   15.78945126,  226.8502654 ,\n",
              "        -79.44197036,   28.48685278,  -46.68049067,   -4.27539395,\n",
              "         14.80288945,   42.67265048,  123.49265803,   57.54903378,\n",
              "        -57.07775437,   55.67236832,  111.94219414,  -85.28364276,\n",
              "       -210.77159054,  225.40155307,  126.15055662,   20.19267543,\n",
              "          5.1292867 ,  -11.72845529,  -57.21081486, -148.68894309,\n",
              "        -43.46881438,  -80.14677322,  -99.66149594,  -68.45322536,\n",
              "         15.95052752,  -87.92003121,   40.94858306,   -3.20624357,\n",
              "       -281.47560564, -245.2552968 , -148.32947806,   53.31171591,\n",
              "        152.00155123,   53.24351451,  145.88933701,   70.07780664,\n",
              "         17.61927326, -305.54872613,  191.67036026, -131.9137377 ,\n",
              "        -24.85296807, -108.4492417 ,  -82.15466656,  107.83993666,\n",
              "        153.45754775,  -42.32755849, -136.50336789,   83.80378143,\n",
              "        -68.45322536,   72.557732  ,  100.81849995,   -0.4540179 ,\n",
              "        -77.75855823,  -35.234053  ,   34.38334756,   82.76959343,\n",
              "         45.93679325, -155.57052555,  -27.80739973,  -61.50374572,\n",
              "       -133.90025138,  167.55409722,   43.80695179, -144.51734025,\n",
              "        182.93479016,   74.07995418,   53.77463501,   52.03108082,\n",
              "        226.30223489,  -27.35074818,  -40.98987775,  -45.76393054,\n",
              "         48.8807584 ,  -72.27679484,   77.3834247 ,  -57.07775437,\n",
              "       -133.4910164 ,  -30.0657018 ,  -87.92003121,   22.42384869,\n",
              "         32.59426327,  -43.6639593 ,  -59.74138549, -179.41584942,\n",
              "       -116.11982515,   94.09049412,   41.45804555,  243.6970533 ,\n",
              "        152.98060086,  140.37141841,   63.05603291,  -54.23568451,\n",
              "        187.89670689,  -16.27493404,   43.32328753,  193.27960956,\n",
              "        -37.68753042, -210.77159054,  -59.74138549,  -20.41975566,\n",
              "        -61.67901511,   14.80288945,  176.32016813,  101.72654054,\n",
              "         24.40675204, -110.73639538,  193.27960956,  -64.30623701,\n",
              "         47.92205768,   29.89292091,   98.25970589, -105.64774257,\n",
              "         49.98677674,  -45.40162199,   66.19189549,  -38.55533478,\n",
              "       -122.4052632 ,  136.49340319, -109.19946081,  -15.74714134,\n",
              "        186.99481812,   27.14889505, -148.68894309,  -21.15069628,\n",
              "        -47.4450855 , -114.49625105,  -17.6836661 , -104.35482922,\n",
              "        -53.64686139, -244.7010239 , -151.42237501,    6.72591249,\n",
              "       -195.15598022,  230.61775103,  -47.27011388,   94.22134103,\n",
              "         54.61679029,  240.40260033,  -59.7743196 ,   70.07780664,\n",
              "         54.22422221,    6.41248372,  -78.77458702,   36.86784799,\n",
              "        187.42531736,  -30.72720854, -108.30869848,  -22.27384194,\n",
              "        -95.34806326,   -1.09650862,   -5.12119922,  -69.83700546,\n",
              "         -0.47835879, -190.66037078, -102.73736055,   99.74051023,\n",
              "         -7.60472923, -112.44940028,   62.25574925,   11.66848088,\n",
              "        158.45636502,  -55.50454309,  -18.79412192,  193.19644331,\n",
              "        177.0162876 ,   53.35524967,  -61.23942538,   81.81384276,\n",
              "         70.7321135 ,  -48.49853505,  -22.53499003,  -75.00976086,\n",
              "       -259.28031893,   98.54059338,   27.28389437,   59.50347504])"
            ]
          },
          "metadata": {
            "tags": []
          },
          "execution_count": 15
        }
      ]
    },
    {
      "cell_type": "code",
      "metadata": {
        "id": "mmwFvY6SmuPg"
      },
      "source": [
        " \n",
        "df=pd.DataFrame(data=Y_test,columns=[\"target\"])\n",
        "\n",
        "df.to_csv(\"airp_y_predictions.csv\",index=False)"
      ],
      "execution_count": 16,
      "outputs": []
    },
    {
      "cell_type": "code",
      "metadata": {
        "colab": {
          "base_uri": "https://localhost:8080/"
        },
        "id": "PxlzVUQ1ooIS",
        "outputId": "e485c355-6930-44d8-82f3-8ce4abcbb242"
      },
      "source": [
        " from sklearn.model_selection import cross_val_score\n",
        " cross_val_score(clf, X, Y, cv=5)"
      ],
      "execution_count": 18,
      "outputs": [
        {
          "output_type": "execute_result",
          "data": {
            "text/plain": [
              "array([0.88305649, 0.87877773, 0.88337315, 0.88323321, 0.87762462])"
            ]
          },
          "metadata": {
            "tags": []
          },
          "execution_count": 18
        }
      ]
    }
  ]
}